{
  "nbformat": 4,
  "nbformat_minor": 0,
  "metadata": {
    "colab": {
      "provenance": [],
      "include_colab_link": true
    },
    "kernelspec": {
      "name": "python3",
      "display_name": "Python 3"
    },
    "language_info": {
      "name": "python"
    }
  },
  "cells": [
    {
      "cell_type": "markdown",
      "metadata": {
        "id": "view-in-github",
        "colab_type": "text"
      },
      "source": [
        "<a href=\"https://colab.research.google.com/github/achyutsharma27/Video-to-Audio-Conversion/blob/main/Video_to_Audio_Conversion.ipynb\" target=\"_parent\"><img src=\"https://colab.research.google.com/assets/colab-badge.svg\" alt=\"Open In Colab\"/></a>"
      ]
    },
    {
      "cell_type": "markdown",
      "source": [
        "---\n",
        "## **Mini Project : Video to Audio Conversion**\n",
        "---"
      ],
      "metadata": {
        "id": "xldEBfNiDKbA"
      }
    },
    {
      "cell_type": "markdown",
      "source": [
        "---\n",
        "### 1. Installing Libraries\n",
        "---"
      ],
      "metadata": {
        "id": "mBNs5VQ0Dd5R"
      }
    },
    {
      "cell_type": "code",
      "execution_count": 1,
      "metadata": {
        "colab": {
          "base_uri": "https://localhost:8080/"
        },
        "id": "iZJyR_XYDBgL",
        "outputId": "9a287189-bf67-48f8-96ae-2f3d09ced7b9"
      },
      "outputs": [
        {
          "output_type": "stream",
          "name": "stdout",
          "text": [
            "Pytube installed Successfully...\n",
            "Moviepy installed Successfully...\n"
          ]
        }
      ],
      "source": [
        "!pip install pytube &> /dev/null\n",
        "print(\"Pytube installed Successfully...\")\n",
        "!pip install moviepy &> /dev/null\n",
        "print(\"Moviepy installed Successfully...\")\n"
      ]
    },
    {
      "cell_type": "markdown",
      "source": [
        "---\n",
        "### 2. Adding Video\n",
        "---"
      ],
      "metadata": {
        "id": "_zDrhwE5EeHS"
      }
    },
    {
      "cell_type": "code",
      "source": [
        "from pytube import YouTube\n",
        "\n",
        "video_url = \"https://www.youtube.com/watch?v=u2NAuswnTKs&pp=ygURYXBuYSBiYW5hIGxlIHBpeWE%3D\"\n",
        "yt = YouTube(video_url)\n",
        "\n",
        "print(f\"Downloading: {yt.title}\")\n",
        "yt.streams.first().download()"
      ],
      "metadata": {
        "colab": {
          "base_uri": "https://localhost:8080/",
          "height": 53
        },
        "id": "0OgGKya0EdyH",
        "outputId": "f193121e-8c83-40a2-aacf-1f7b8b610a3c"
      },
      "execution_count": 2,
      "outputs": [
        {
          "output_type": "stream",
          "name": "stdout",
          "text": [
            "Downloading: Apna Bana Le (From \"Bhediya\")\n"
          ]
        },
        {
          "output_type": "execute_result",
          "data": {
            "text/plain": [
              "'/content/Apna Bana Le (From Bhediya).3gpp'"
            ],
            "application/vnd.google.colaboratory.intrinsic+json": {
              "type": "string"
            }
          },
          "metadata": {},
          "execution_count": 2
        }
      ]
    },
    {
      "cell_type": "markdown",
      "source": [
        "---\n",
        "### 3. Import video file & Convert it to Audio\n",
        "---"
      ],
      "metadata": {
        "id": "i3y3oCa_Fl2C"
      }
    },
    {
      "cell_type": "code",
      "source": [
        "#import library\n",
        "import moviepy.editor as movie\n",
        "#get video file\n",
        "videoClip = movie.VideoFileClip(\"/content/Apna Bana Le (From Bhediya).3gpp\"\n",
        ")\n",
        "# copy the path of the file which you want to change to audio from content or download\n",
        "#convert it to audio file and save\n",
        "#here the generated audio filename is krazy\n",
        "videoClip.audio.write_audiofile(\"audio_file.mp3\")"
      ],
      "metadata": {
        "colab": {
          "base_uri": "https://localhost:8080/"
        },
        "id": "TWYGp1aWFrgS",
        "outputId": "f55077d1-d1e3-4ad0-ed00-42aa108a540b"
      },
      "execution_count": 4,
      "outputs": [
        {
          "output_type": "stream",
          "name": "stdout",
          "text": [
            "MoviePy - Writing audio in audio_file.mp3\n"
          ]
        },
        {
          "output_type": "stream",
          "name": "stderr",
          "text": [
            "                                                                     "
          ]
        },
        {
          "output_type": "stream",
          "name": "stdout",
          "text": [
            "MoviePy - Done.\n"
          ]
        },
        {
          "output_type": "stream",
          "name": "stderr",
          "text": [
            "\r"
          ]
        }
      ]
    }
  ]
}